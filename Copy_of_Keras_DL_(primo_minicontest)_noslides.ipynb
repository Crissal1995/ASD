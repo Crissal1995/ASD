{
  "nbformat": 4,
  "nbformat_minor": 0,
  "metadata": {
    "celltoolbar": "Slideshow",
    "kernelspec": {
      "name": "python3",
      "display_name": "Python 3"
    },
    "language_info": {
      "codemirror_mode": {
        "name": "ipython",
        "version": 3
      },
      "file_extension": ".py",
      "mimetype": "text/x-python",
      "name": "python",
      "nbconvert_exporter": "python",
      "pygments_lexer": "ipython3",
      "version": "3.7.3"
    },
    "pycharm": {
      "stem_cell": {
        "cell_type": "raw",
        "metadata": {
          "collapsed": false
        },
        "source": []
      }
    },
    "colab": {
      "name": "Copy of Keras DL (primo minicontest).ipynb",
      "provenance": []
    },
    "accelerator": "GPU"
  },
  "cells": [
    {
      "cell_type": "markdown",
      "metadata": {
        "id": "GtnANllO84vb",
        "colab_type": "text"
      },
      "source": [
        "# **Primo minicontest**\n",
        "\n",
        "#### Indice\n",
        "* **Introduzione**\n",
        " * 1.1 Scelta della libreria\n",
        " * 1.2 Modello\n",
        "* **Esecuzione**\n",
        " * 2.1 Caricamento librerie\n",
        " * 2.2 Caricamento del csv\n",
        " * 2.3 Estrazione degli attributi\n",
        " * 2.4 Studio degli attributi\n",
        " * 2.5 Manipolazione dei dati\n",
        "* **Costruzione del modello**\n",
        " * 3.1 Introduzione\n",
        " * 3.2 Costruzione della rete\n",
        " * 3.3 Addestramento supervisionato\n",
        " * 3.4 Validazione\n",
        "* **Predizione non supervisionata**\n",
        " * 4.1 Predizione\n",
        " * 4.2 Salvataggio"
      ]
    },
    {
      "cell_type": "markdown",
      "metadata": {
        "id": "KIoxZGsu84vi",
        "colab_type": "text"
      },
      "source": [
        "\n",
        "## 1. Introduzione\n",
        "L'obiettivo di questo minicontest è quello di addestrare un modello al fine di determinare se una determinata zona del territorio è impermeabile, *impervious*, oppure no; risulta quindi chiaro che stiamo trattando un problema di classificazione binaria.\n",
        "\n",
        "I dati in nostro possesso sono stati ottenuti dalla sonda Sentinel-2 dell'ESA attraverso i suoi sensori, sensibili a differenti lunghezze d'onda; abbiamo quindi collezionato misure in 13 differenti bande dello spettro.\n",
        "\n",
        "Il training set contiene le misure ottenute dalla sonda per due differenti *tile* del territorio italiano (con la corretta classe di predizione per ogni pixel identificato nel tile stesso), mentre il test set contiene le misure ottenute su un tile completamente slegato dai primi due e senza la corretta classe di predizione associata ad ogni pixel."
      ]
    },
    {
      "cell_type": "markdown",
      "metadata": {
        "id": "nfPAErTj84vk",
        "colab_type": "text"
      },
      "source": [
        "### 1.1 Scelta della libreria\n",
        "Prima di adottare Keras abbiamo provato altri strumenti; nell'ordine:\n",
        "- Knime\n",
        "- Matlab\n",
        "- Scikit Learner\n",
        "\n",
        "Per la scelta del modello, però (una rete neurale) si è preferito lavorare con Keras, una libreria che fa da wrapper a TensorFlow (la libreria per il Deep Learning sviluppata da Google) e rappresenta quindi lo stato dell'arte del deep learning odierno, nonché [una delle più utilizzate a livello mondiale][1].\n",
        "\n",
        "[1]: https://towardsdatascience.com/deep-learning-framework-power-scores-2018-23607ddf297a"
      ]
    },
    {
      "cell_type": "markdown",
      "metadata": {
        "id": "6ZtSq3PV84vm",
        "colab_type": "text"
      },
      "source": [
        "### 1.2 Modello\n",
        "\n",
        "Come primi modelli sono stati usati i seguenti classificatori:\n",
        "- **Decision Tree** (criterio di split = indice di diversità di Gini)\n",
        "- **K Nearest Neighbor** (k = 11, distanze pesate)\n",
        "\n",
        "Il modello adottato successivamente è stato **MLP** (Multi Layer Perceptron) realizzato inizialmente con Scikit Learn e successivamente con Keras; il cambio è dovuto ad un maggior numero di iperparametri configurabile."
      ]
    },
    {
      "cell_type": "markdown",
      "metadata": {
        "id": "EKTILss384vp",
        "colab_type": "text"
      },
      "source": [
        "Il modello risultato vincitore è una rete neurale composta da tre hidden layers, un input layer ed un output layer.\n",
        "- L'input layer ha tanti ingressi quante sono le feature (13 nel nostro caso) ed un numero di uscite arbitrario (abbiamo posto 32);\n",
        "- I tre hidden layer sono uguali in quanto a funzione di attivazione; per tutti e tre essa è la [ReLU][2], cioé la funzione definita come $f(x) = \\textrm{max}\\{0, x\\}$; questa funzione è molto utilizzata in letteratura - soprattutto per le deep networks - per la velocità maggiore di apprendimento rispetto alla tangente iperbolica o alla sigmoide;\n",
        " - L'hidden layer 1 ha un input di 13 nodi ed un output di 32 nodi;\n",
        " - L'hidden layer 2 ha un input di 32 nodi ed un output di 64 nodi;\n",
        " - L'hidden layer 3 ha un input di 64 nodi ed un output di 32 nodi;\n",
        "- L'ultimo layer, l'output layer, ha 32 ingressi ed una sola uscita con funzione di attivazione sigmoide; la funzione è non lineare e soprattutto è molto efficace per classificazioni binarie (insieme all'avere un unico neurone in output).\n",
        "[2]: https://en.wikipedia.org/wiki/Rectifier_(neural_networks)"
      ]
    },
    {
      "cell_type": "markdown",
      "metadata": {
        "id": "kkorJ4F_VDvw",
        "colab_type": "text"
      },
      "source": [
        "## 2. Studio dei dati"
      ]
    },
    {
      "cell_type": "markdown",
      "metadata": {
        "id": "4FsRQQp084vs",
        "colab_type": "text"
      },
      "source": [
        "### 2.1 Caricamento librerie\n",
        "Per prima cosa carichiamo tutte le librerie di cui avremo bisogno nel corso del notebook."
      ]
    },
    {
      "cell_type": "code",
      "metadata": {
        "id": "SODxpOXuiqNi",
        "colab_type": "code",
        "outputId": "44dccd07-5af1-4173-8f47-d6ac9aff267b",
        "colab": {
          "base_uri": "https://localhost:8080/",
          "height": 34
        }
      },
      "source": [
        "import tensorflow as tf\n",
        "def upgrade_tf():\n",
        "    if tf.__version__.split('.')[0] == '1':\n",
        "        !pip uninstall tensorflow\n",
        "        !pip install tensorflow\n",
        "        !pip uninstall keras\n",
        "        !pip install keras\n",
        "upgrade_tf()\n",
        "tf.__version__"
      ],
      "execution_count": 82,
      "outputs": [
        {
          "output_type": "execute_result",
          "data": {
            "text/plain": [
              "'2.0.0'"
            ]
          },
          "metadata": {
            "tags": []
          },
          "execution_count": 82
        }
      ]
    },
    {
      "cell_type": "code",
      "metadata": {
        "pycharm": {
          "is_executing": false,
          "name": "#%%\n"
        },
        "id": "cTTkw0JP84vu",
        "colab_type": "code",
        "colab": {}
      },
      "source": [
        "# core packages\n",
        "import numpy as np\n",
        "import pandas as pd\n",
        "import keras\n",
        "import os\n",
        "from os.path import join as joinpath\n",
        "import time\n",
        "\n",
        "# plot packages\n",
        "import matplotlib.pyplot as plt\n",
        "import seaborn as sns\n",
        "sns.set(style=\"ticks\", color_codes=True)\n",
        "%matplotlib inline\n",
        "\n",
        "# folder di supporto all'esecuzione\n",
        "in_folder  = 'input'\n",
        "out_folder = 'output'\n",
        "model_folder = 'model'\n",
        "res_folder = 'result'"
      ],
      "execution_count": 0,
      "outputs": []
    },
    {
      "cell_type": "markdown",
      "metadata": {
        "id": "aVgU6xF184v3",
        "colab_type": "text"
      },
      "source": [
        "### 2.2 Caricamento del csv\n",
        "\n",
        "Carichiamo in memoria il dataset in formato csv con la libreria `pandas`."
      ]
    },
    {
      "cell_type": "code",
      "metadata": {
        "id": "P5frQZzX84v6",
        "colab_type": "code",
        "colab": {}
      },
      "source": [
        "# ottieni il trainset caricato su kaggle in formato pd.DataFrame\n",
        "train_set = pd.read_csv(joinpath(in_folder, 'training.csv'))"
      ],
      "execution_count": 0,
      "outputs": []
    },
    {
      "cell_type": "markdown",
      "metadata": {
        "pycharm": {
          "name": "#%% md\n"
        },
        "id": "N282PjI884wA",
        "colab_type": "text"
      },
      "source": [
        "### 2.3 Estrazione degli attributi\n",
        "\n",
        "Una volta ottenuta la tabella di *training.csv*, la modifichiamo in modo da ottenere nei dataset delle x solamente le feature del problema (le 13 bande spettrali acquisite da Sentinel-2), mentre nel trainset della y avremo le label corrette."
      ]
    },
    {
      "cell_type": "code",
      "metadata": {
        "pycharm": {
          "is_executing": false,
          "name": "#%%\n"
        },
        "id": "S2KAdh7c84wC",
        "colab_type": "code",
        "colab": {}
      },
      "source": [
        "# il drop non avviene in place\n",
        "x_trainset = train_set.drop(labels=['name', 'x', 'y', 'Imperviousness'], axis=1)\n",
        "y_trainset = train_set['Imperviousness']\n",
        "\n",
        "# possiamo cancellare la tabella, non ci servirà più in memoria\n",
        "del train_set"
      ],
      "execution_count": 0,
      "outputs": []
    },
    {
      "cell_type": "markdown",
      "metadata": {
        "id": "JX-yTOPc84wK",
        "colab_type": "text"
      },
      "source": [
        "### 2.4 Studio degli attributi\n",
        "Andiamo ora a studiare gli attributi per determinare se è necessario applicare una normalizzazione (ricordiamo che è necessario avere tutti i valori delle feature compresi in $[0,1]$ o $[-1,1]$ quando utilizziamo una rete neurale, poiché essa è *molto* sensibile ad eventuali outliers)."
      ]
    },
    {
      "cell_type": "code",
      "metadata": {
        "id": "wjPo9_Rv84wM",
        "colab_type": "code",
        "outputId": "cd6e9112-7aea-4bce-83fc-fdb6fa27674c",
        "colab": {
          "base_uri": "https://localhost:8080/",
          "height": 369
        }
      },
      "source": [
        "g = sns.catplot(data=x_trainset)"
      ],
      "execution_count": 86,
      "outputs": [
        {
          "output_type": "display_data",
          "data": {
            "image/png": "[encoded data removed]",
            "text/plain": [
              "<Figure size 360x360 with 1 Axes>"
            ]
          },
          "metadata": {
            "tags": []
          }
        }
      ]
    },
    {
      "cell_type": "markdown",
      "metadata": {
        "id": "FXByf2hlUqMP",
        "colab_type": "text"
      },
      "source": [
        "### 2.5 Manipolazione dei dati\n",
        "\n",
        "Come abbiamo notato nella figura precedente, c'è il bisogno di applicare una manipolazione sui dati per renderli adatti al classificatore utilizzato."
      ]
    },
    {
      "cell_type": "markdown",
      "metadata": {
        "pycharm": {
          "name": "#%% md\n"
        },
        "id": "zmiVcsMJ84wV",
        "colab_type": "text"
      },
      "source": [
        "#### 2.5.1 Holdout\n",
        "Prima di manipolare i dati normalizzandoli, per rendere più robusto il procedimento possiamo procedere a fare un *holdout*, cioé a splittare l'intero dataset di training in due set di dimensione minore, *train set* e *test set*. \n",
        "\n",
        "Questo procedimento è necessario farlo prima dello scaling perché allo scaler \"insegneremo\" come trasformare i dati sul train set, mentre sul test set ottenuto dall'holdout applicheremo semplicemente la trasformazione.\n",
        "\n",
        "Questo è lo stesso processo che faremo successivamente quando dovremo fare *prediction* sul test set non classificato; trasformeremo il test set con questo stesso `Scaler`.\n",
        "\n",
        "Utilizzando una funzione fornita da Scikit Learn vado a dividere il dataset decidendo quanto dare al trainset e quanto al testset. Abbiamo scelto di dare l'80% del dataset al training set, ed il restante 20% al testset.\n",
        "\n",
        "Fissando il seme è possibile rendere lo split deterministico, per non avere risultati che potrebbero cambiare ad ogni esecuzione."
      ]
    },
    {
      "cell_type": "code",
      "metadata": {
        "pycharm": {
          "is_executing": false,
          "name": "#%% \n"
        },
        "id": "UspVuS9k84wX",
        "colab_type": "code",
        "colab": {}
      },
      "source": [
        "from sklearn.model_selection import train_test_split\n",
        "\n",
        "# uso un seed fisso per replicare gli esperimenti\n",
        "seed = 10\n",
        "np.random.seed(seed)\n",
        "\n",
        "# splitto il dataset in train e test (per ambo x e y)\n",
        "x_train, x_test, y_train, y_test = train_test_split(\n",
        "    x_trainset, y_trainset, test_size=0.2, random_state=seed\n",
        ")\n",
        "\n",
        "# riottengo tabelle\n",
        "x_train = pd.DataFrame(x_train, columns=x_trainset.columns)\n",
        "x_test = pd.DataFrame(x_test, columns=x_trainset.columns)\n",
        "y_train = pd.DataFrame(y_train)\n",
        "y_test = pd.DataFrame(y_test)"
      ],
      "execution_count": 0,
      "outputs": []
    },
    {
      "cell_type": "markdown",
      "metadata": {
        "pycharm": {
          "name": "#%% md\n"
        },
        "id": "SVoB707i84we",
        "colab_type": "text"
      },
      "source": [
        "#### 2.5.2 Normalizzazione\n",
        "Una volta ottenuti train set e test set tramite holdout, possiamo passare alla normalizzazione dei dati facendo *fitting* **solamente** sui dati del trainset (il test set, ricordiamo, è un'incognita che non deve in alcun modo influenzare train set ed apprendimento)."
      ]
    },
    {
      "cell_type": "code",
      "metadata": {
        "pycharm": {
          "is_executing": false,
          "name": "#%% \n"
        },
        "id": "DiBIcndV84wg",
        "colab_type": "code",
        "colab": {}
      },
      "source": [
        "from sklearn.preprocessing import StandardScaler\n",
        "scaler = StandardScaler()\n",
        "\n",
        "# fitting solamente su dati del training\n",
        "scaler.fit(x_train.values)\n",
        "\n",
        "# trasformazione di entrambi\n",
        "x_train[:] = scaler.transform(x_train.values)\n",
        "x_test[:] = scaler.transform(x_test.values)"
      ],
      "execution_count": 0,
      "outputs": []
    },
    {
      "cell_type": "markdown",
      "metadata": {
        "id": "RExKQ7e-84wm",
        "colab_type": "text"
      },
      "source": [
        "#### 2.5.3 Visualizzazione\n",
        "Plottiamo ora i dati trasformati, per vedere come ha agito lo scaler, sia sul train set che sul test set.\n",
        "\n",
        "Il box rappresenta i due quartili centrali della distribuzione (25-50 e 50-75), mentre i *whisker*, i baffi, rappresentano il resto della distribuzione. I punti al di fuori del *box-and-whisker* sono considerati outlier.\n",
        "\n",
        "Come si nota, la trasformazione è andata a buon fine, poiché la maggior parte dei valori si trova nell'intervallo $[-2,2]$, fatta eccezione per alcuni outlier che possono costituire rumore."
      ]
    },
    {
      "cell_type": "code",
      "metadata": {
        "scrolled": true,
        "id": "A8csWnkg84wp",
        "colab_type": "code",
        "outputId": "5bd19f5e-af36-4b55-b758-643bed2fdaf5",
        "colab": {
          "base_uri": "https://localhost:8080/",
          "height": 393
        }
      },
      "source": [
        "f, axes = plt.subplots(1, 2, figsize=(12, 6))\n",
        "g = sns.boxplot(data=x_train, ax=axes[0]).set_title('Train set normalized')\n",
        "g = sns.boxplot(data=x_test, ax=axes[1]).set_title('Test set normalized')"
      ],
      "execution_count": 89,
      "outputs": [
        {
          "output_type": "display_data",
          "data": {
            "image/png": "[encoded data removed]",
            "text/plain": [
              "<Figure size 864x432 with 2 Axes>"
            ]
          },
          "metadata": {
            "tags": []
          }
        }
      ]
    },
    {
      "cell_type": "markdown",
      "metadata": {
        "id": "8S-PdZawUgl7",
        "colab_type": "text"
      },
      "source": [
        "## 3. Costruzione del modello"
      ]
    },
    {
      "cell_type": "markdown",
      "metadata": {
        "pycharm": {
          "name": "#%% md\n"
        },
        "id": "lvQFZopG84wv",
        "colab_type": "text"
      },
      "source": [
        "### 3.1 Introduzione\n",
        "Andremo ora a costruire il nostro modello di classificazione, nel nostro caso una rete neurale MLP.\n",
        "\n",
        "A differenza degli altri strumenti presentati in precedenza, Keras è una libreria dedita solamente al Deep Learning; risulta quindi chiaro che le modifiche consentite sugli iperparametri sono molte e, di conseguenza, può risultare più ostico trovare un risultato migliore.\n",
        "\n",
        "Bisogna inoltre ricordare che l'apprendimento di una rete neurale è fatto ad **epoche**, ovvero gli stessi dati vengono presentati più volte al modello affinché esso possa migliorare i parametri (i pesi sugli archi che connettono i vari neuroni o percettroni), cioé ridurre la loss (funzione di costo) ed aumentare la metrica selezionata (nel nostro caso l'accuracy)."
      ]
    },
    {
      "cell_type": "markdown",
      "metadata": {
        "id": "o0eM23DNUl9n",
        "colab_type": "text"
      },
      "source": [
        "### 3.2 Costruzione della rete"
      ]
    },
    {
      "cell_type": "markdown",
      "metadata": {
        "id": "X2R8n5AC84wx",
        "colab_type": "text"
      },
      "source": [
        "#### 3.2.1 Layers\n",
        "Keras ci offre la possibilità di costruire una NN attraverso più tipi diversi di layer (il modello, `Sequential`, è unico, ma viene offerta la possibilità di specializzare un `Model` generico).\n",
        "\n",
        "I layer che ci interessano per fare una MLP tradizionale sono `Dense` e `Dropout`.\n",
        "\n",
        "- `Dense` rappresenta un normale layer con un output (quanti neuroni abbiamo in uscita) e con un input (opzionale se sono hidden/output layer, può essere *inferred*); viene inoltre offerta la possibilità di decidere quale funzione di attivazione utilizzare. Come abbiamo già affermato nel primo capitolo, gli hidden layer che costruiremo utilizzano una ReLU, mentre l'output una Sigmoide;\n",
        "- `Dropout` rappresenta un metalayer, cioé ha bisogno di un layer su cui appoggiarsi poiché \"spegne\" dei neuroni  in maniera casuale per introdurre rumore e rendere così la NN più robusta (questa pratica evita l'overfitting). Abbiamo scelto per ogni hidden layer di spegnere il 25% dei neuroni.\n",
        "\n",
        "Su 32 nodi di uscita, ne rimarranno 24 attivi, mentre su 64 nodi ne rimarranno attivi 48."
      ]
    },
    {
      "cell_type": "markdown",
      "metadata": {
        "id": "Mlgij-Pu84wz",
        "colab_type": "text"
      },
      "source": [
        "#### 3.2.2 Compilazione\n",
        "Per quanto riguarda la compilazione, un modello di ANN fatto in Keras ha bisogno di tre parametri: `loss`, `metrics` e `optimizer`.\n",
        "\n",
        "- `loss` indica la funzione di costo o di errore, ed è una funzione che va minimizzata. Per questo problema di classificazione binaria abbiamo scelto `binary_crossentropy`;\n",
        "- `metrics` indica l'array delle funzioni da massimizzare. Abbiamo selezionato solamente `accuracy`;\n",
        "- `optimizer` indica quale algoritmo utilizzare per far apprendere la rete. Abbiamo selezionato Adam, una variante della SGD, molto utilizzato in letteratura per la maggior velocità di convergenza rispetto a quest'ultimo."
      ]
    },
    {
      "cell_type": "code",
      "metadata": {
        "pycharm": {
          "is_executing": false,
          "name": "#%%\n"
        },
        "id": "3XWyR0ze84w1",
        "colab_type": "code",
        "colab": {}
      },
      "source": [
        "from keras.models import Sequential\n",
        "from keras.layers import Dense, Dropout\n",
        "\n",
        "n_features = len(x_trainset.columns)\n",
        "\n",
        "def create_model(optimizer):\n",
        "    # creazione della rete\n",
        "    model = Sequential()\n",
        "\n",
        "    # input layer\n",
        "    model.add(Dense(32, activation='relu', input_dim=n_features))\n",
        "    model.add(Dropout(0.25))\n",
        "\n",
        "    # hidden layer #1\n",
        "    model.add(Dense(64, activation='relu'))\n",
        "    model.add(Dropout(0.25))\n",
        "    \n",
        "    # hidden layer #2\n",
        "    model.add(Dense(64, activation='relu'))\n",
        "    model.add(Dropout(0.25))\n",
        "    \n",
        "    # hidden layer #3\n",
        "    model.add(Dense(32, activation='relu'))\n",
        "    model.add(Dropout(0.25))\n",
        "    \n",
        "    # output layer\n",
        "    model.add(Dense(1, activation='sigmoid'))\n",
        "    \n",
        "    # compile the model\n",
        "    model.compile(\n",
        "        loss='binary_crossentropy',\n",
        "        metrics=['accuracy'],\n",
        "        optimizer=optimizer)\n",
        "    \n",
        "    return model"
      ],
      "execution_count": 0,
      "outputs": []
    },
    {
      "cell_type": "code",
      "metadata": {
        "id": "ah3NpvWJ84w7",
        "colab_type": "code",
        "colab": {}
      },
      "source": [
        "from keras.wrappers.scikit_learn import KerasClassifier\n",
        "\n",
        "optimizer = 'adam'\n",
        "# model = create_model(optimizer)\n",
        "model = KerasClassifier(build_fn=create_model, optimizer=optimizer)"
      ],
      "execution_count": 0,
      "outputs": []
    },
    {
      "cell_type": "markdown",
      "metadata": {
        "id": "sdb-RZjFd2gm",
        "colab_type": "text"
      },
      "source": [
        "#### 3.2.3 Riepilogo del modello"
      ]
    },
    {
      "cell_type": "code",
      "metadata": {
        "id": "DIufC4-1d-Ex",
        "colab_type": "code",
        "colab": {}
      },
      "source": [
        "if type(model) is Sequential:\n",
        "    model.summary()"
      ],
      "execution_count": 0,
      "outputs": []
    },
    {
      "cell_type": "markdown",
      "metadata": {
        "id": "jUOfHBeeBwv9",
        "colab_type": "text"
      },
      "source": [
        "### 3.3 Addestramento supervisionato\n",
        "Una volta creato il modello con l'optimizer desiderato, provvediamo ad addestrarlo. \n",
        "\n",
        "Anche qui abbiamo una vasta scelta di iperparametri, legati all'apprendimento di una rete neurale.\n",
        "\n",
        "Innanzitutto possiamo settare il numero di epoche, ovvero il numero di volte che l'intero train set verrà dato in pasto alla rete per aggiornare i pesi degli archi dei neuroni; un valore troppo basso non farà convergere il modello verso l'accuracy massima, mentre un valore troppo alto sarà una spesa computazionale inutile, poiché l'accuracy oscillerà attorno ad un valore massimo.\n",
        "\n",
        "Subito dopo possiamo settare il batch-size (chiamato anche *mini-batch-size* per distinguerlo dal trainset) per definire la granularità dell'input; più è grande, meno sarà accurato il modello, ed ovviamente più è piccolo e più sarà lento il modello a convergere (ed inoltre la rete potrebbe andare in overfitting).\n",
        "\n",
        "Un altro parametro importante è il `validation_split`, ovvero quanta percentuale del trainset tenere da parte in ogni epoca e sulla quale fare predizione; ci serve per dare un'idea dell'andamento di accuracy e loss. Abbiamo scelto di prendere il 20% del trainset ed usarlo come validation set.\n",
        "In aggiunta, abbiamo impostato lo shuffle dei dati ad ogni iterazione.\n",
        "\n"
      ]
    },
    {
      "cell_type": "code",
      "metadata": {
        "pycharm": {
          "is_executing": false,
          "name": "#%% \n"
        },
        "id": "PajSdE2V84xB",
        "colab_type": "code",
        "outputId": "b6fcb7d0-e4a7-49c2-f4ec-955a79a90d4f",
        "colab": {
          "base_uri": "https://localhost:8080/",
          "height": 1000
        }
      },
      "source": [
        "def fit(model):\n",
        "    return model.fit(\n",
        "        x_train, y_train, \n",
        "        epochs=50,\n",
        "        workers=10,\n",
        "        validation_split=0.2,\n",
        "        shuffle=True,\n",
        "        batch_size=32\n",
        "    )\n",
        "\n",
        "history = fit(model)"
      ],
      "execution_count": 93,
      "outputs": [
        {
          "output_type": "stream",
          "text": [
            "Train on 42809 samples, validate on 10703 samples\n",
            "Epoch 1/50\n",
            "42809/42809 [==============================] - 2s 56us/step - loss: 0.3754 - accuracy: 0.8410 - val_loss: 0.3143 - val_accuracy: 0.8693\n",
            "Epoch 2/50\n",
            "42809/42809 [==============================] - 2s 51us/step - loss: 0.3215 - accuracy: 0.8670 - val_loss: 0.2917 - val_accuracy: 0.8796\n",
            "Epoch 3/50\n",
            "42809/42809 [==============================] - 2s 52us/step - loss: 0.3023 - accuracy: 0.8745 - val_loss: 0.2757 - val_accuracy: 0.8857\n",
            "Epoch 4/50\n",
            "42809/42809 [==============================] - 2s 52us/step - loss: 0.2929 - accuracy: 0.8801 - val_loss: 0.2699 - val_accuracy: 0.8881\n",
            "Epoch 5/50\n",
            "42809/42809 [==============================] - 2s 52us/step - loss: 0.2847 - accuracy: 0.8848 - val_loss: 0.2621 - val_accuracy: 0.8932\n",
            "Epoch 6/50\n",
            "42809/42809 [==============================] - 2s 52us/step - loss: 0.2794 - accuracy: 0.8868 - val_loss: 0.2532 - val_accuracy: 0.8959\n",
            "Epoch 7/50\n",
            "42809/42809 [==============================] - 2s 51us/step - loss: 0.2743 - accuracy: 0.8897 - val_loss: 0.2528 - val_accuracy: 0.8968\n",
            "Epoch 8/50\n",
            "42809/42809 [==============================] - 2s 52us/step - loss: 0.2715 - accuracy: 0.8922 - val_loss: 0.2480 - val_accuracy: 0.8983\n",
            "Epoch 9/50\n",
            "42809/42809 [==============================] - 2s 52us/step - loss: 0.2708 - accuracy: 0.8922 - val_loss: 0.2518 - val_accuracy: 0.8997\n",
            "Epoch 10/50\n",
            "42809/42809 [==============================] - 2s 54us/step - loss: 0.2679 - accuracy: 0.8936 - val_loss: 0.2466 - val_accuracy: 0.9013\n",
            "Epoch 11/50\n",
            "42809/42809 [==============================] - 2s 54us/step - loss: 0.2642 - accuracy: 0.8954 - val_loss: 0.2457 - val_accuracy: 0.8995\n",
            "Epoch 12/50\n",
            "42809/42809 [==============================] - 2s 54us/step - loss: 0.2640 - accuracy: 0.8946 - val_loss: 0.2485 - val_accuracy: 0.8997\n",
            "Epoch 13/50\n",
            "42809/42809 [==============================] - 2s 55us/step - loss: 0.2625 - accuracy: 0.8957 - val_loss: 0.2430 - val_accuracy: 0.9011\n",
            "Epoch 14/50\n",
            "42809/42809 [==============================] - 2s 53us/step - loss: 0.2619 - accuracy: 0.8947 - val_loss: 0.2446 - val_accuracy: 0.9003\n",
            "Epoch 15/50\n",
            "42809/42809 [==============================] - 2s 52us/step - loss: 0.2612 - accuracy: 0.8972 - val_loss: 0.2423 - val_accuracy: 0.9008\n",
            "Epoch 16/50\n",
            "42809/42809 [==============================] - 2s 52us/step - loss: 0.2616 - accuracy: 0.8965 - val_loss: 0.2484 - val_accuracy: 0.8984\n",
            "Epoch 17/50\n",
            "42809/42809 [==============================] - 2s 52us/step - loss: 0.2590 - accuracy: 0.8971 - val_loss: 0.2432 - val_accuracy: 0.8990\n",
            "Epoch 18/50\n",
            "42809/42809 [==============================] - 2s 51us/step - loss: 0.2602 - accuracy: 0.8970 - val_loss: 0.2416 - val_accuracy: 0.9011\n",
            "Epoch 19/50\n",
            "42809/42809 [==============================] - 2s 51us/step - loss: 0.2586 - accuracy: 0.8982 - val_loss: 0.2399 - val_accuracy: 0.9033\n",
            "Epoch 20/50\n",
            "42809/42809 [==============================] - 2s 52us/step - loss: 0.2588 - accuracy: 0.8970 - val_loss: 0.2380 - val_accuracy: 0.9043\n",
            "Epoch 21/50\n",
            "42809/42809 [==============================] - 2s 52us/step - loss: 0.2595 - accuracy: 0.8979 - val_loss: 0.2398 - val_accuracy: 0.9037\n",
            "Epoch 22/50\n",
            "42809/42809 [==============================] - 2s 53us/step - loss: 0.2579 - accuracy: 0.8982 - val_loss: 0.2397 - val_accuracy: 0.9043\n",
            "Epoch 23/50\n",
            "42809/42809 [==============================] - 2s 52us/step - loss: 0.2561 - accuracy: 0.8987 - val_loss: 0.2377 - val_accuracy: 0.9052\n",
            "Epoch 24/50\n",
            "42809/42809 [==============================] - 2s 52us/step - loss: 0.2568 - accuracy: 0.8999 - val_loss: 0.2393 - val_accuracy: 0.9039\n",
            "Epoch 25/50\n",
            "42809/42809 [==============================] - 2s 53us/step - loss: 0.2556 - accuracy: 0.8994 - val_loss: 0.2393 - val_accuracy: 0.9051\n",
            "Epoch 26/50\n",
            "42809/42809 [==============================] - 2s 53us/step - loss: 0.2569 - accuracy: 0.8999 - val_loss: 0.2455 - val_accuracy: 0.9045\n",
            "Epoch 27/50\n",
            "42809/42809 [==============================] - 2s 53us/step - loss: 0.2540 - accuracy: 0.9000 - val_loss: 0.2409 - val_accuracy: 0.8998\n",
            "Epoch 28/50\n",
            "42809/42809 [==============================] - 2s 52us/step - loss: 0.2530 - accuracy: 0.8996 - val_loss: 0.2396 - val_accuracy: 0.9030\n",
            "Epoch 29/50\n",
            "42809/42809 [==============================] - 2s 52us/step - loss: 0.2553 - accuracy: 0.8993 - val_loss: 0.2383 - val_accuracy: 0.9021\n",
            "Epoch 30/50\n",
            "42809/42809 [==============================] - 2s 51us/step - loss: 0.2531 - accuracy: 0.9000 - val_loss: 0.2405 - val_accuracy: 0.9046\n",
            "Epoch 31/50\n",
            "42809/42809 [==============================] - 2s 52us/step - loss: 0.2560 - accuracy: 0.8984 - val_loss: 0.2379 - val_accuracy: 0.9023\n",
            "Epoch 32/50\n",
            "42809/42809 [==============================] - 2s 52us/step - loss: 0.2524 - accuracy: 0.9010 - val_loss: 0.2399 - val_accuracy: 0.9012\n",
            "Epoch 33/50\n",
            "42809/42809 [==============================] - 2s 52us/step - loss: 0.2540 - accuracy: 0.9007 - val_loss: 0.2419 - val_accuracy: 0.9026\n",
            "Epoch 34/50\n",
            "42809/42809 [==============================] - 2s 52us/step - loss: 0.2528 - accuracy: 0.9010 - val_loss: 0.2396 - val_accuracy: 0.9036\n",
            "Epoch 35/50\n",
            "42809/42809 [==============================] - 2s 55us/step - loss: 0.2522 - accuracy: 0.9018 - val_loss: 0.2403 - val_accuracy: 0.9029\n",
            "Epoch 36/50\n",
            "42809/42809 [==============================] - 2s 54us/step - loss: 0.2527 - accuracy: 0.9001 - val_loss: 0.2397 - val_accuracy: 0.9026\n",
            "Epoch 37/50\n",
            "42809/42809 [==============================] - 2s 52us/step - loss: 0.2534 - accuracy: 0.9010 - val_loss: 0.2416 - val_accuracy: 0.9013\n",
            "Epoch 38/50\n",
            "42809/42809 [==============================] - 2s 52us/step - loss: 0.2528 - accuracy: 0.9004 - val_loss: 0.2360 - val_accuracy: 0.9027\n",
            "Epoch 39/50\n",
            "42809/42809 [==============================] - 2s 52us/step - loss: 0.2520 - accuracy: 0.9009 - val_loss: 0.2366 - val_accuracy: 0.9040\n",
            "Epoch 40/50\n",
            "42809/42809 [==============================] - 2s 53us/step - loss: 0.2536 - accuracy: 0.9007 - val_loss: 0.2387 - val_accuracy: 0.9040\n",
            "Epoch 41/50\n",
            "42809/42809 [==============================] - 2s 52us/step - loss: 0.2515 - accuracy: 0.9014 - val_loss: 0.2366 - val_accuracy: 0.9025\n",
            "Epoch 42/50\n",
            "42809/42809 [==============================] - 2s 51us/step - loss: 0.2524 - accuracy: 0.9004 - val_loss: 0.2373 - val_accuracy: 0.9044\n",
            "Epoch 43/50\n",
            "42809/42809 [==============================] - 2s 53us/step - loss: 0.2513 - accuracy: 0.9012 - val_loss: 0.2368 - val_accuracy: 0.9048\n",
            "Epoch 44/50\n",
            "42809/42809 [==============================] - 2s 52us/step - loss: 0.2503 - accuracy: 0.9003 - val_loss: 0.2359 - val_accuracy: 0.9054\n",
            "Epoch 45/50\n",
            "42809/42809 [==============================] - 2s 52us/step - loss: 0.2486 - accuracy: 0.9020 - val_loss: 0.2375 - val_accuracy: 0.9044\n",
            "Epoch 46/50\n",
            "42809/42809 [==============================] - 2s 52us/step - loss: 0.2506 - accuracy: 0.9005 - val_loss: 0.2388 - val_accuracy: 0.9037\n",
            "Epoch 47/50\n",
            "42809/42809 [==============================] - 2s 52us/step - loss: 0.2518 - accuracy: 0.9016 - val_loss: 0.2342 - val_accuracy: 0.9057\n",
            "Epoch 48/50\n",
            "42809/42809 [==============================] - 2s 52us/step - loss: 0.2511 - accuracy: 0.9007 - val_loss: 0.2337 - val_accuracy: 0.9050\n",
            "Epoch 49/50\n",
            "42809/42809 [==============================] - 2s 52us/step - loss: 0.2499 - accuracy: 0.9026 - val_loss: 0.2387 - val_accuracy: 0.9036\n",
            "Epoch 50/50\n",
            "42809/42809 [==============================] - 2s 52us/step - loss: 0.2506 - accuracy: 0.9013 - val_loss: 0.2380 - val_accuracy: 0.9015\n"
          ],
          "name": "stdout"
        }
      ]
    },
    {
      "cell_type": "markdown",
      "metadata": {
        "id": "rsrvomwjOyJ2",
        "colab_type": "text"
      },
      "source": [
        "Possiamo ora plottare i risultati ottenuti dal nostro modello in fase di training in due plot differenti; nel primo mostriamo l'andamento dell'accuracy all'aumentare delle epoche, nel secondo l'andamento della curva di loss.\n",
        "\n",
        "Notiamo che abbiamo ottimi risultati, poiché l'accuracy media sul validation set è superiore a quella del train (anche se di poco); stesso discorso vale per la loss."
      ]
    },
    {
      "cell_type": "code",
      "metadata": {
        "scrolled": true,
        "id": "bDIWVIO584xI",
        "colab_type": "code",
        "outputId": "34ceaadf-acea-4a60-b9bd-a81162c90909",
        "colab": {
          "base_uri": "https://localhost:8080/",
          "height": 495
        }
      },
      "source": [
        "def do_plot(history, opt_name=''):\n",
        "    hist = history.history\n",
        "    # compatibilità con TF 1 e 2\n",
        "    acc = hist.get('accuracy') or hist.get('acc')\n",
        "    val_acc = hist.get('val_accuracy') or hist.get('val_acc')\n",
        "    loss = hist.get('loss')\n",
        "    val_loss = hist.get('val_loss')\n",
        "\n",
        "    print('Mean accuracy:     {:.5f}'.format(np.mean(acc)))\n",
        "    print('Mean val accuracy: {:.5f}'.format(np.mean(val_acc)))\n",
        "    print()\n",
        "    print('Mean loss:     {:.5f}'.format(np.mean(loss)))\n",
        "    print('Mean val loss: {:.5f}'.format(np.mean(val_loss)))\n",
        "\n",
        "    name = opt_name + ' ' if opt_name else ''\n",
        "    fig, (ax1, ax2) = plt.subplots(1, 2, figsize=(13, 6))\n",
        "\n",
        "    ax1.plot(acc)\n",
        "    ax1.plot(val_acc)\n",
        "    ax1.set_title('{}model accuracy'.format(name))\n",
        "    ax1.set(xlabel='epoch')\n",
        "    ax1.legend(['train', 'validation'], loc='upper left')\n",
        "\n",
        "    ax2.plot(loss)\n",
        "    ax2.plot(val_loss)\n",
        "    ax2.set_title('{}model loss'.format(name))\n",
        "    ax2.set(xlabel='epoch')\n",
        "    ax2.legend(['train', 'validation'], loc='upper left')\n",
        "\n",
        "do_plot(history, optimizer)"
      ],
      "execution_count": 94,
      "outputs": [
        {
          "output_type": "stream",
          "text": [
            "Mean accuracy:     0.89552\n",
            "Mean val accuracy: 0.90039\n",
            "\n",
            "Mean loss:     0.26301\n",
            "Mean val loss: 0.24523\n"
          ],
          "name": "stdout"
        },
        {
          "output_type": "display_data",
          "data": {
            "image/png": "[encoded data removed]",
            "text/plain": [
              "<Figure size 936x432 with 2 Axes>"
            ]
          },
          "metadata": {
            "tags": []
          }
        }
      ]
    },
    {
      "cell_type": "markdown",
      "metadata": {
        "id": "XHV4U2cLULAH",
        "colab_type": "text"
      },
      "source": [
        "### 3.4 Validazione\n",
        "Una volta addestrata la rete, proviamola sul testset ottenuto prima in fase di holdout. \n",
        "\n",
        "Poiché questo dataset non è stato mai visto prima dalla rete (né ha influenzato in alcun modo il trainset), possiamo essere confidenti che il risultato di accuracy avrà un certo significato.\n",
        "\n",
        "Bisogna tuttavia ricordare che il tile da classificare è completamente diverso, quindi la nostra rete dovrà essere in grado di generalizzare bene (mentre training e test sono fatti su due tile relativamente simili fra di loro).\n"
      ]
    },
    {
      "cell_type": "code",
      "metadata": {
        "pycharm": {
          "is_executing": false,
          "name": "#%%\n"
        },
        "id": "nPrmArkj84xL",
        "colab_type": "code",
        "outputId": "3fc8ac86-f98b-47fc-e66c-e65615fbc794",
        "colab": {
          "base_uri": "https://localhost:8080/",
          "height": 34
        }
      },
      "source": [
        "def score_model(model, name):\n",
        "    # fa la prediction di x_test e la confronta con y_test (la label vera)\n",
        "    if type(model) is Sequential:\n",
        "        score = model.evaluate(x_test, y_test, verbose=0)\n",
        "        metrics = list(zip(model.metrics_names, score))\n",
        "        y_pred = model.predict\n",
        "    elif type(model) is KerasClassifier:\n",
        "        score = model.score(x_test, y_test, verbose=0)\n",
        "        metrics = ['accuracy', score]\n",
        "    \n",
        "    # stampa a video\n",
        "    print(metrics)\n",
        "    # e su file lo score ottenuto\n",
        "    fname = 'mlp_{n}_{t}.txt'.format(n=name, t=str(int(time.time())))\n",
        "    with open(joinpath(res_folder, fname), 'w') as f:\n",
        "        f.write(str(metrics))\n",
        "\n",
        "    if type(model) is Sequential:\n",
        "        return model.predict_classes(x_test, verbose=0)\n",
        "    elif type(model) is KerasClassifier:\n",
        "        return model.predict(x_test, verbose=0)\n",
        "\n",
        "y_pred = score_model(model, optimizer)"
      ],
      "execution_count": 95,
      "outputs": [
        {
          "output_type": "stream",
          "text": [
            "['accuracy', 0.9043952822685242]\n"
          ],
          "name": "stdout"
        }
      ]
    },
    {
      "cell_type": "markdown",
      "metadata": {
        "pycharm": {
          "name": "#%% md\n"
        },
        "id": "oK6h5KDN84xP",
        "colab_type": "text"
      },
      "source": [
        "Confrontando i risultati ottenuti con quelli precedenti, notiamo che sono in linea con quelli ottenuti in fase di training.\n",
        "\n"
      ]
    },
    {
      "cell_type": "markdown",
      "metadata": {
        "id": "6vb-jK8OyEuN",
        "colab_type": "text"
      },
      "source": [
        "### 3.5 Metriche\n",
        "Il risultato di accuracy ottenuto, per quanto sia positivo, non è propriamente indicativo della bontà del classificatore addestrato.\n",
        "\n",
        "Per ovviare a questo problema, useremo grafici molto significativi per un classificatore binario: curva ROC e matrice di confusione."
      ]
    },
    {
      "cell_type": "markdown",
      "metadata": {
        "id": "_z9L4I0Y5-up",
        "colab_type": "text"
      },
      "source": [
        "#### 3.5.1 Curva ROC\n",
        "\n",
        "La curva ROC è una curva plottata in uno spazio dimensionale $[0,1]\\times[0,1]$ dove sull'asse delle ascisse poniamo il rate dei falsi positivi (istanze classificate come 1 quando in realtà erano 0), mentre sull'asse delle ordinate poniamo il rate dei veri positivi (istanze classificate correttamente come 1)."
      ]
    },
    {
      "cell_type": "code",
      "metadata": {
        "id": "fnX9CBr56ybl",
        "colab_type": "code",
        "colab": {
          "base_uri": "https://localhost:8080/",
          "height": 301
        },
        "outputId": "42f4c283-360f-4544-9388-2f9bb2252d50"
      },
      "source": [
        "from sklearn.metrics import roc_curve, auc\n",
        "\n",
        "fpr, tpr, _ = roc_curve(y_true=y_test, y_score=y_pred)\n",
        "roc_auc = auc(fpr, tpr)\n",
        "\n",
        "plt.plot(fpr, tpr, color='darkorange', lw=2, \n",
        "         label='ROC curve (area = {:.2f})'.format(roc_auc))\n",
        "plt.plot([0, 1], [0, 1], color='navy', lw=2, linestyle='--')\n",
        "plt.plot([1, 0], [1, 1], color='gray', lw=1, linestyle='--')\n",
        "plt.xlim([0.0, 1.0])\n",
        "plt.ylim([0.0, 1.05])\n",
        "plt.grid()\n",
        "plt.xlabel('False Positive Rate')\n",
        "plt.ylabel('True Positive Rate')\n",
        "plt.title('Curva ROC del modello')\n",
        "plt.legend(loc=\"lower right\")\n",
        "plt.show()"
      ],
      "execution_count": 96,
      "outputs": [
        {
          "output_type": "display_data",
          "data": {
            "image/png": "[encoded data removed]",
            "text/plain": [
              "<Figure size 432x288 with 1 Axes>"
            ]
          },
          "metadata": {
            "tags": []
          }
        }
      ]
    },
    {
      "cell_type": "markdown",
      "metadata": {
        "id": "TxVwDV_O9kY7",
        "colab_type": "text"
      },
      "source": [
        "Possiamo notare come la curva sia molto spigolosa e sale velocemente verso 1, quindi è un ottimo risultato; inoltre anche l'area sotto la curva ROC ha un valore elevato, 0.90."
      ]
    },
    {
      "cell_type": "markdown",
      "metadata": {
        "id": "BHwK1lYy99Um",
        "colab_type": "text"
      },
      "source": [
        "#### 3.5.2 Matrice di confusione\n",
        "\n",
        "Una matrice di confusione è una matrice i cui elementi $c_{i,j}$ sono il numero di campioni che appartengono alla classe $i$ ma vengono classificati nella classe $j$.\n",
        "\n",
        "Poiché ovviamente vogliamo massimizzare il rate di veri positivi e veri negativi, gli elementi sulla diagonale principale devono essere molto maggiori di quelli sulla diagonale secondaria."
      ]
    },
    {
      "cell_type": "code",
      "metadata": {
        "id": "KF3DGNDh-s9P",
        "colab_type": "code",
        "colab": {
          "base_uri": "https://localhost:8080/",
          "height": 297
        },
        "outputId": "7e75e46a-1f47-449e-d8d5-085ddebe494e"
      },
      "source": [
        "from sklearn.metrics import confusion_matrix\n",
        "import itertools\n",
        "\n",
        "cf = confusion_matrix(y_true=y_test, y_pred=y_pred)\n",
        "\n",
        "axes = plt.imshow(cf,cmap=plt.cm.Blues,interpolation='nearest')\n",
        "plt.colorbar()\n",
        "plt.title('Matrice di confusione')\n",
        "plt.xlabel('Classe predetta')\n",
        "plt.ylabel('Classe vera')\n",
        "tick_marks = np.arange(2)\n",
        "class_labels = ['0','1']\n",
        "tick_marks\n",
        "plt.xticks(tick_marks,class_labels)\n",
        "plt.yticks(tick_marks,class_labels)\n",
        "plt.ylim([1.5, -.5])\n",
        "# plotting text value inside cells\n",
        "thresh = cf.max() / 2\n",
        "for i,j in itertools.product(range(cf.shape[0]),range(cf.shape[1])):\n",
        "    plt.text(j,i,format(cf[i,j],'d'),horizontalalignment='center',color='white' if cf[i,j] >thresh else 'black')\n",
        "plt.tight_layout()\n",
        "plt.show()"
      ],
      "execution_count": 97,
      "outputs": [
        {
          "output_type": "display_data",
          "data": {
            "image/png": "[encoded data removed]",
            "text/plain": [
              "<Figure size 432x288 with 2 Axes>"
            ]
          },
          "metadata": {
            "tags": []
          }
        }
      ]
    },
    {
      "cell_type": "markdown",
      "metadata": {
        "id": "vxF01j5qCBan",
        "colab_type": "text"
      },
      "source": [
        "Come con la curva ROC, notiamo che il nostro classificatore si comporta molto bene anche sul test set, quindi siamo confidenti che possa avere un buon risultato anche su dati mai visti."
      ]
    },
    {
      "cell_type": "markdown",
      "metadata": {
        "id": "UvDe1HklbMxQ",
        "colab_type": "text"
      },
      "source": [
        "## 4. Predizione non supervisionata"
      ]
    },
    {
      "cell_type": "markdown",
      "metadata": {
        "id": "UzUqgHwKbZVZ",
        "colab_type": "text"
      },
      "source": [
        "### 4.1 Predizione\n",
        "Andiamo ora a predire i dati sul testset fornitoci su Kaggle.\n",
        "\n",
        "Poiché abbiamo già caricato il CSV, ci resta da filtrare i dati e normalizzarli con lo scaler creato ed addestrato in precedenza."
      ]
    },
    {
      "cell_type": "code",
      "metadata": {
        "pycharm": {
          "is_executing": false,
          "name": "#%%\n"
        },
        "id": "7oP9ARca84xQ",
        "colab_type": "code",
        "colab": {}
      },
      "source": [
        "# carichiamo in memoria il testset di Kaggle da classificare\n",
        "test_set  = pd.read_csv(joinpath(in_folder, 'test.csv'))\n",
        "\n",
        "# prendiamo i dati dal test set non labellato\n",
        "x_testset = test_set.drop(labels=['name', 'x', 'y', 'Imperviousness'], axis=1)\n",
        "\n",
        "# e li trasformiamo con lo standard scaler ottenuto dal nostro training set\n",
        "x_testset = scaler.transform(x_testset)\n",
        "\n",
        "# ed infine prediciamo la classe (0 o 1) per ogni sample\n",
        "if type(model) is Sequential:\n",
        "    y_pred = model.predict_classes(x_testset, verbose=0)\n",
        "elif type(model) is KerasClassifier:\n",
        "    y_pred = model.predict(x_testset, verbose=0)"
      ],
      "execution_count": 0,
      "outputs": []
    },
    {
      "cell_type": "markdown",
      "metadata": {
        "pycharm": {
          "name": "#%% md\n"
        },
        "id": "JcpMC5UN84xW",
        "colab_type": "text"
      },
      "source": [
        "### 4.2 Salvataggio\n",
        "Passiamo ora a salvare lo stato dell'elaborazione, sia per conservare la predizione ottenuta (che andrà poi inviata su Kaggle) sia per salvare il modello e caricarlo all'occorrenza (a causa degli elevati costi di training)."
      ]
    },
    {
      "cell_type": "markdown",
      "metadata": {
        "id": "XdZi38RhdRxT",
        "colab_type": "text"
      },
      "source": [
        "#### 4.2.1 Salvataggio del csv"
      ]
    },
    {
      "cell_type": "code",
      "metadata": {
        "pycharm": {
          "is_executing": false,
          "name": "#%%\n"
        },
        "id": "gWoGWhAK84xZ",
        "colab_type": "code",
        "colab": {}
      },
      "source": [
        "# crea l'header del file csv\n",
        "cols = ['ID', 'Imperviousness']\n",
        "# crea la colonna degli ID (da 1 a n)\n",
        "row_col = np.arange(1, len(y_pred) + 1).reshape(len(y_pred), 1)\n",
        "# crea il dataframe e salvalo come csv\n",
        "pd.DataFrame(\n",
        "    data=np.concatenate([row_col, y_pred], axis=1),\n",
        "    columns=cols\n",
        ").to_csv(\n",
        "    joinpath(out_folder, 'result_{name}_{t}.csv'.format(name=optimizer, t=str(int(time.time())))),\n",
        "    columns=cols,\n",
        "    index=False\n",
        ")"
      ],
      "execution_count": 0,
      "outputs": []
    },
    {
      "cell_type": "markdown",
      "metadata": {
        "pycharm": {
          "name": "#%% md\n"
        },
        "id": "kZ6o_yAH84xf",
        "colab_type": "text"
      },
      "source": [
        "#### 4.2.2 Salvataggio del modello"
      ]
    },
    {
      "cell_type": "code",
      "metadata": {
        "pycharm": {
          "is_executing": false,
          "name": "#%%\n"
        },
        "id": "pOoD8C2F84xh",
        "colab_type": "code",
        "colab": {}
      },
      "source": [
        "def save_model(model, name):\n",
        "    tstamp = int(time.time())\n",
        "    fname = '{n}_{t}.h5'.format(n=name, t=tstamp)\n",
        "    model.save(joinpath(model_folder, fname))\n",
        "\n",
        "if type(model) is Sequential:\n",
        "    save_model(model, optimizer)"
      ],
      "execution_count": 0,
      "outputs": []
    },
    {
      "cell_type": "markdown",
      "metadata": {
        "id": "SURdmXiLdp5T",
        "colab_type": "text"
      },
      "source": [
        "#### 4.2.3 Caricamento del modello"
      ]
    },
    {
      "cell_type": "code",
      "metadata": {
        "id": "oQYzLpnY84xq",
        "colab_type": "code",
        "colab": {}
      },
      "source": [
        "def load_model(name=None):\n",
        "    from keras.models import load_model as ld\n",
        "    \n",
        "    h5files = []\n",
        "    for f in os.scandir(model_folder):\n",
        "        if not f.is_file():  # skip elements not file\n",
        "            continue\n",
        "        if f.name.lower().endswith('.h5'):\n",
        "            h5files.append(f.name)\n",
        "    \n",
        "    if not h5files:\n",
        "        raise ValueError(\"No h5 file found inside {}. Maybe you never saved a (trained) model?\".format(model_folder))\n",
        "    \n",
        "    # ordina sul timestamp\n",
        "    h5files.sort(key=lambda e: int(e.split('.')[0].split('_')[1]))\n",
        "    \n",
        "    # se è stato selezionato uno specifico optimizer, carica quello (l'ultimo)\n",
        "    # altrimenti carica l'ultimo modello salvato\n",
        "    if name:\n",
        "        h5filt = [h5 for h5 in h5files if name in h5]\n",
        "        to_load = h5filt[-1]\n",
        "    else:\n",
        "        to_load = h5files[-1]\n",
        "    \n",
        "    return ld(joinpath(model_folder, to_load))\n",
        "\n",
        "if type(model) is Sequential:\n",
        "    model_loaded = load_model()"
      ],
      "execution_count": 0,
      "outputs": []
    }
  ]
}